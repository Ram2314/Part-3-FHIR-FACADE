{
 "cells": [
  {
   "cell_type": "markdown",
   "source": [
    "# Decorators\n",
    "\n",
    "In this activity, we will explore the concept of Python decorators. Decorators are a powerful and useful tool in Python that allows you to modify the behavior of functions or classes. They are a key part of Python's rich support for higher-order functions and offer a way to extend the functionality of existing code in a clean, readable, and maintainable manner.\n",
    "\n",
    "## What is a Decorator?\n",
    "\n",
    "A decorator is a function that takes another function (or method) as an argument and extends or alters its behavior. It allows you to \"wrap\" another function in order to add new functionality to it without modifying the original function's code.\n",
    "\n",
    "## Why Use Decorators?\n",
    "\n",
    "Decorators provide a simple syntax for calling higher-order functions. They are commonly used for:\n",
    "\n",
    "- Logging: Automatically log calls to a function.\n",
    "- Access control and authentication: Check user permissions before executing a function.\n",
    "- Caching: Store the results of expensive function calls and return the cached result when the same inputs occur again.\n",
    "- Monitoring: Track the performance of a function or method.\n",
    "- Validation: Automatically validate inputs to a function."
   ],
   "metadata": {
    "collapsed": false
   },
   "id": "9723d46d1a770076"
  },
  {
   "cell_type": "markdown",
   "source": [
    "# Decorators with Classes\n",
    "\n",
    "In this activity, we will use a decorator to modify the behavior of a class method. We will create a simple `Apple` class and then use a decorator to change the apple's color.\n",
    "\n",
    "## Instructions\n",
    "\n",
    "1. **Create a Class Called `Apple`**:\n",
    "    - Define the class `Apple` with an `__init__` method to initialize the color attribute.\n",
    "    - Implement the `__str__` method to return a string representation of the apple's color.\n",
    "\n",
    "2. **Define a Decorator to Change the Apple’s Color**:\n",
    "    - Create a function `change_color_to_yellow` that takes a function as an argument.\n",
    "    - Inside this function, define a `wrapper` function that changes the apple’s color to yellow before calling the original function.\n",
    "    - Return the `wrapper` function from the decorator.\n",
    "\n",
    "3. **Decorate the Function That Returns the Apple**:\n",
    "    - Define a function `get_apple` that returns the apple object.\n",
    "    - Use the `@change_color_to_yellow` decorator to modify the behavior of `get_apple`.\n",
    "\n",
    "4. **Create a Red Apple**:\n",
    "    - Instantiate an `Apple` object with the color red and print it.\n",
    "\n",
    "5. **Get the Apple After Changing Its Color Using the Decorator**:\n",
    "    - Call the `get_apple` function with the red apple, which should change its color to yellow due to the decorator.\n",
    "    - Print the apple after its color has been changed.\n"
   ],
   "metadata": {
    "collapsed": false
   },
   "id": "eed90dde034ab557"
  },
  {
   "cell_type": "code",
   "execution_count": null,
   "outputs": [],
   "source": [],
   "metadata": {
    "collapsed": false,
    "ExecuteTime": {
     "end_time": "2024-07-22T11:51:45.242284Z",
     "start_time": "2024-07-22T11:51:45.235318Z"
    }
   },
   "id": "65dd9fd36baaeee5"
  }
 ],
 "metadata": {
  "kernelspec": {
   "display_name": "Python 3",
   "language": "python",
   "name": "python3"
  },
  "language_info": {
   "codemirror_mode": {
    "name": "ipython",
    "version": 2
   },
   "file_extension": ".py",
   "mimetype": "text/x-python",
   "name": "python",
   "nbconvert_exporter": "python",
   "pygments_lexer": "ipython2",
   "version": "2.7.6"
  }
 },
 "nbformat": 4,
 "nbformat_minor": 5
}
